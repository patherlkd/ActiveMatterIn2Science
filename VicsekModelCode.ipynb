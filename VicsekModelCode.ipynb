{
 "cells": [
  {
   "cell_type": "markdown",
   "id": "4291d3e9",
   "metadata": {},
   "source": [
    "# Vicsek Model Simulation: Exploring active aligning particles"
   ]
  },
  {
   "cell_type": "markdown",
   "id": "80f13bad",
   "metadata": {},
   "source": [
    "## Written by Dr Luke K. Davis\n",
    "### University College London Department of Mathematics\n",
    "E: luke.davis@ucl.ac.uk"
   ]
  },
  {
   "cell_type": "markdown",
   "id": "68583263",
   "metadata": {},
   "source": [
    "Based on code initially written by Francesco Turci"
   ]
  },
  {
   "cell_type": "markdown",
   "id": "f196fd18",
   "metadata": {},
   "source": [
    "## Preamble (Import packages and setup plotting things)"
   ]
  },
  {
   "cell_type": "code",
   "execution_count": 75,
   "id": "0814ccfd",
   "metadata": {},
   "outputs": [],
   "source": [
    "#%%capture\n",
    "#!conda install -y -q ffmpeg\n",
    "%matplotlib notebook\n",
    "import numpy as np\n",
    "import scipy as sp\n",
    "from scipy import sparse\n",
    "from scipy.spatial import cKDTree\n",
    "import matplotlib as mplt\n",
    "import matplotlib.pyplot as plt\n",
    "from matplotlib.animation import FuncAnimation\n",
    "import matplotlib.animation as animation # animation (video)\n",
    "import matplotlib.gridspec as gridspec # fancy subplots\n",
    "from IPython.display import HTML # shows animation in jupyter\n",
    "from IPython.display import display\n",
    "\n",
    "from ipywidgets import interact, interactive, fixed, interact_manual\n",
    "import ipywidgets as widgets\n",
    " \n"
   ]
  },
  {
   "cell_type": "code",
   "execution_count": 2,
   "id": "f9f341e7",
   "metadata": {},
   "outputs": [
    {
     "data": {
      "text/html": [
       "<style>.container { width:100% !important; }</style>"
      ],
      "text/plain": [
       "<IPython.core.display.HTML object>"
      ]
     },
     "metadata": {},
     "output_type": "display_data"
    }
   ],
   "source": [
    "display(HTML(\"<style>.container { width:100% !important; }</style>\"))"
   ]
  },
  {
   "cell_type": "code",
   "execution_count": 77,
   "id": "2ebc5ec8",
   "metadata": {},
   "outputs": [
    {
     "name": "stdout",
     "output_type": "stream",
     "text": [
      "Numpy version: 1.22.3\n",
      "Scipy version: 1.8.0\n",
      "Matplotlib version: 3.5.2\n",
      "ipywidgets version: 7.7.0\n"
     ]
    }
   ],
   "source": [
    "print(\"Numpy version: \"+np.__version__)\n",
    "print(\"Scipy version: \"+sp.__version__)\n",
    "print(\"Matplotlib version: \"+mplt.__version__)\n",
    "print(\"ipywidgets version: \"+widgets.__version__)"
   ]
  },
  {
   "cell_type": "code",
   "execution_count": 54,
   "id": "e19ce57a",
   "metadata": {},
   "outputs": [],
   "source": [
    "ff = 2\n",
    "space         = ff*0.07\n",
    "nb_lines      = ff*1\n",
    "fig_width_pt  = 246.\n",
    "inches_per_pt = 1./72.\n",
    "golden_mean   = .66\n",
    "fig_width     = fig_width_pt*inches_per_pt\n",
    "fig_height    = (fig_width*golden_mean)+space\n",
    "fig_size      = [ff*fig_width, ff*fig_height]                                                                          \n",
    "params = {'font.family': \"Serif\",\n",
    "        'legend.fontsize': ff*7,\n",
    "          'axes.linewidth': ff*5e-1,\n",
    "          'axes.labelsize': ff*10,\n",
    "          #'text.fontsize': ff*7,                                                                                    \n",
    "          'xtick.labelsize': ff*7,\n",
    "          'ytick.labelsize': ff*7,\n",
    "          'text.usetex': True,\n",
    "          'text.latex.preamble':\"\\\\usepackage{color}\",\n",
    "          'figure.figsize': fig_size}\n",
    "\n",
    "plt.rcParams.update(params)"
   ]
  },
  {
   "cell_type": "markdown",
   "id": "921d6c09",
   "metadata": {},
   "source": [
    "## Define the Vicsek simulation class"
   ]
  },
  {
   "cell_type": "code",
   "execution_count": 68,
   "id": "1e7aef48",
   "metadata": {},
   "outputs": [],
   "source": [
    "\n",
    "class VicsekSimulation:\n",
    "\n",
    "    \n",
    "    def __init__(self,rho,eta):\n",
    "        # Some constants \n",
    "        self.cnt =1 # Simulation label\n",
    "        self.L = 32.0 # Box length\n",
    "        self.deltat = 1.0 # Delta t for integration dynamics\n",
    "        \n",
    "        \n",
    "        \n",
    "    def run(self,rho,eta,r0,pi_frac=1.0,L_frac=1.0,factor=0.5,iterations=250):\n",
    "        \n",
    "        # Some code to label the video screen and organize plot\n",
    "        print(\"Simulation number: \"+str(self.cnt))\n",
    "        print(\"Click on the video to pause or resume it.\")\n",
    "        plt.close('all')\n",
    "        self.fig, self.ax= plt.subplots()\n",
    "        self.ax.set_title('Vicsek Model Simulation')\n",
    "        self.ax.set_xlim(0.0,32)\n",
    "        self.ax.set_ylim(0.0,32)                                                                                                                                                                                                                                                                                                                                                                                                                                                                                                  \n",
    "        self.ax.set(xlabel=r'$x$',ylabel=r'$y$')                                                                                                                                                                                                                      \n",
    "        self.ax.tick_params(which='both',labelsize=25,direction='in',left=True,right=True,top=True,bottom=True)\n",
    "        self.time_text = self.ax.text(0.02, 1.0, '', transform=self.ax.transAxes,fontsize='xx-large')\n",
    "        \n",
    "        # Assign function arguments to class variables\n",
    "        self.iterations= iterations # number of total iterations of integrating dynamics\n",
    "        self.rho = rho # density\n",
    "        self.eta=eta # orientational noise strength\n",
    "        self.r0 = r0 # interaction range\n",
    "        self.factor = factor # factor of propulsion\n",
    "        self.N = int(self.rho*self.L**2) # Total number of particles\n",
    "        self.v0 = self.factor/self.deltat # propulsion\n",
    "        \n",
    "        # Initialize positions and orientations of the particles\n",
    "        self.pos = np.random.uniform(0,L_frac*self.L,size=(self.N,2))\n",
    "        self.orient = np.random.uniform(-np.pi, pi_frac*np.pi,size=self.N)\n",
    "    \n",
    "        # Initiatiate the matplotlib quiver object (that nicely displays arrows)\n",
    "        self.qv = self.ax.quiver(self.pos[:,0], self.pos[:,1], np.cos(self.orient[0]), np.sin(self.orient), self.orient, clim=[-np.pi, np.pi])\n",
    "        self.fig.tight_layout(pad=1.0)\n",
    "        # Animate the plot\n",
    "        self.anim = FuncAnimation(self.fig,self.update,frames=self.iterations,interval=10, blit=True,repeat=False)\n",
    "        self.paused = False\n",
    "        \n",
    "        # Some video/notebook specific things\n",
    "        self.fig.canvas.mpl_connect('button_press_event', self.toggle_pause)\n",
    "        HTML(self.anim.to_html5_video())\n",
    "        # Update the simulation label (useful for keeping track of many simulations run in the window)\n",
    "        self.cnt+= 1\n",
    "    \n",
    "    def toggle_pause(self, *args, **kwargs):\n",
    "        ## Function to implement pausing of video upon button click\n",
    "        if self.paused:\n",
    "            self.anim.resume()\n",
    "        else:\n",
    "            self.anim.pause()\n",
    "        self.paused = not self.paused\n",
    "        \n",
    "    def update(self,i):\n",
    "        \n",
    "        # Show simulation progress\n",
    "        self.time_text.set_text(\"Progress: \"+str(round(i/self.iterations,2)))\n",
    "        \n",
    "        # Nearest neighbour lookup\n",
    "        tree = cKDTree(self.pos,boxsize=[self.L,self.L])\n",
    "        dist = tree.sparse_distance_matrix(tree, max_distance=self.r0,output_type='coo_matrix')\n",
    "\n",
    "        #important 3 lines: we evaluate a quantity for every column j\n",
    "        data = np.exp(self.orient[dist.col]*1j)\n",
    "        # construct  a new sparse marix with entries in the same places ij of the dist matrix\n",
    "        neigh = sparse.coo_matrix((data,(dist.row,dist.col)), shape=dist.get_shape())\n",
    "        # and sum along the columns (sum over j)\n",
    "        S = np.squeeze(np.asarray(neigh.tocsr().sum(axis=1)))\n",
    "\n",
    "        # Re-assign the orientation vector (based on alignment [first term] and noise [second term])\n",
    "        self.orient = np.angle(S)+self.eta*np.random.uniform(-np.pi, np.pi, size=self.N)\n",
    "\n",
    "        # Update the positions\n",
    "        cos, sin= np.cos(self.orient), np.sin(self.orient)\n",
    "        self.pos[:,0] += cos*self.v0*self.deltat\n",
    "        self.pos[:,1] += sin*self.v0*self.deltat\n",
    "        \n",
    "        # Apply periodic boundary conditions\n",
    "        self.pos[self.pos>self.L] -= self.L\n",
    "        self.pos[self.pos<0] += self.L\n",
    "\n",
    "        # Update the plot\n",
    "        self.qv.set_offsets(self.pos)\n",
    "        self.qv.set_UVC(cos, sin,self.orient)\n",
    "        \n",
    "        return self.qv,\n",
    "    \n",
    "    \n",
    "    \n",
    "    \n",
    "    \n"
   ]
  },
  {
   "cell_type": "markdown",
   "id": "815f92d8",
   "metadata": {},
   "source": [
    "## Run the interactive simulation"
   ]
  },
  {
   "cell_type": "markdown",
   "id": "4a4bd7c6",
   "metadata": {},
   "source": [
    "You should run the cell below to initiate the sliders, that will change specific parameters to run a simulation of the Vicsek model.\n",
    "\n",
    "Please click the ``Run Interact`` button below each time you want to visualize the simulation. You should -- ideally -- wait for the simulation video to finish before you run the next one. You are free to pause, zoom in/out of the simulation, pan the simulation box, and save a snapshot of the simulation."
   ]
  },
  {
   "cell_type": "markdown",
   "id": "e1b09ae0",
   "metadata": {},
   "source": []
  },
  {
   "cell_type": "code",
   "execution_count": 69,
   "id": "c732994e",
   "metadata": {},
   "outputs": [
    {
     "data": {
      "application/vnd.jupyter.widget-view+json": {
       "model_id": "ea2ebc00d6074671b7bb6e5c36c2fd12",
       "version_major": 2,
       "version_minor": 0
      },
      "text/plain": [
       "interactive(children=(FloatSlider(value=3.0, description='Density: ', layout=Layout(width='25%'), max=3.0, min…"
      ]
     },
     "metadata": {},
     "output_type": "display_data"
    },
    {
     "data": {
      "text/plain": [
       "<function ipywidgets.widgets.interaction._InteractFactory.__call__.<locals>.<lambda>(*args, **kwargs)>"
      ]
     },
     "execution_count": 69,
     "metadata": {},
     "output_type": "execute_result"
    }
   ],
   "source": [
    "# Make an instance of the simulation\n",
    "v=VicsekSimulation(3.0,0.15)\n",
    "\n",
    "# Make the simulation 'interactive'\n",
    "style = {'description_width': 'initial'}\n",
    "interact_manual(v.run,rho=widgets.FloatSlider(description='Density: ',value=3.0,min=0.5,max=3,step=0.1,style=style,layout=widgets.Layout(width='25%')),eta=widgets.FloatSlider(description='Noise: ', value=0.15,min=0.0,max=1,step=0.1,style=style),\n",
    "               r0=widgets.FloatSlider(description='Interaction range: ', value=1.0,min=0.0,max=3.0,step=0.5,style=style),\n",
    "                pi_frac=widgets.FloatSlider(description='Initial degree of alignment [e.g. 1.0 = random, -0.1 = more aligned]: ', value=1.0,min=-0.1,max=1.0,step=0.1,style=style,layout=widgets.Layout(width='35%')),\n",
    "                L_frac=widgets.FloatSlider(description='Initial coverage of box [e.g. 1.0 = cover all box, 0.5 = cover (0.5^2 = 0.25) of box]: ', value=1.0,min=0.1,max=1.0,step=0.1,style=style,layout=widgets.Layout(width='40%')),\n",
    "                factor=widgets.FloatSlider(description='Speed: ', value=0.5,min=0.0,max=2,step=0.5,style=style),iterations=widgets.IntSlider(description='Iterations: ', value=250,min=50,max=500,style=style,layout=widgets.Layout(width='30%')))\n"
   ]
  },
  {
   "cell_type": "code",
   "execution_count": null,
   "id": "185e6204",
   "metadata": {},
   "outputs": [],
   "source": []
  }
 ],
 "metadata": {
  "kernelspec": {
   "display_name": "Python 3 (ipykernel)",
   "language": "python",
   "name": "python3"
  },
  "language_info": {
   "codemirror_mode": {
    "name": "ipython",
    "version": 3
   },
   "file_extension": ".py",
   "mimetype": "text/x-python",
   "name": "python",
   "nbconvert_exporter": "python",
   "pygments_lexer": "ipython3",
   "version": "3.10.4"
  }
 },
 "nbformat": 4,
 "nbformat_minor": 5
}
